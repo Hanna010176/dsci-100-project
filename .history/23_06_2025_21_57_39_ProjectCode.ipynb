{
 "cells": [
  {
   "cell_type": "markdown",
   "id": "059cc251-2350-497c-864a-69c4166f0b2d",
   "metadata": {},
   "source": [
    "<div style=\"font-size:18px;\"> <span style=\"color:purple\">\n",
    "Data Science 100 Final Project :D"
   ]
  },
  {
   "cell_type": "markdown",
   "id": "63abc131-768a-4fb3-8432-04113a685493",
   "metadata": {},
   "source": [
    "Introduction:\n",
    "There is a research group at UBC that is collecting data on how people play video games. They have collected data on players through a Minecreaft Server. They have presented us with many broad questions that we need to explore. The broad question that has been chosen for the project today is Which \"kinds\" of players are most likely to contribute a large amount of data so that we can target those players in our recruiting efforts. From this we have formulated a predictuve question, the question we are trying to answer is Can we predict the number of sessions players partake in a Minecraft server based on their age?\n",
    "\n",
    "This project uses two datasets that were taken from the minecraft server, the two CSV files are:\n",
    "players.csv (This dataset has information on the players)\n",
    "sessions.csv(This dataset has specific information on the players sessions)\n",
    "\n",
    "These two datasets were cleaned and joined together by hashedEmail to create a dataset that we used to answer our question. \n",
    "|**Variable Name**  | **Type** |**Description**                     |\n",
    "|-------------------|----------|------------------------------------|\n",
    "|hashedEmail        |Character |An identifier for each player       |\n",
    "|Age                |Numeric   |The Age of the player in years      |\n",
    "|Total_duration     |Numeric(Double)  |The total amount of time that a player spent on the Mincraft server in seconds|\n",
    "|Gender |Character | The self reported gender of the player  |\n",
    "|num_session        |Integer|The total number of sessions played by the player|\n",
    "\n",
    "**Summary of the dataset used**\n",
    "\n",
    "Number of Observation: 123 observations\n",
    "\n",
    "The variables used in the analysis: Age, num_session\n",
    "\n",
    "The response variable: num_session\n",
    "\n",
    "The explanatory variable: Age"
   ]
  },
  {
   "cell_type": "markdown",
   "id": "37bb804f-ff8f-4ea5-a6dd-f1f827841ccc",
   "metadata": {},
   "source": [
    "First we loaded all the necessary libraries that we need to run out project."
   ]
  },
  {
   "cell_type": "code",
   "execution_count": null,
   "id": "cba479e7-fd44-4b65-9b6f-8c2d3fdb067e",
   "metadata": {},
   "outputs": [],
   "source": [
    "### Run this cell before continuing. \n",
    "library(tidyverse)\n",
    "library(repr)\n",
    "library(tidymodels)\n",
    "options(repr.matrix.max.rows = 6)"
   ]
  },
  {
   "cell_type": "markdown",
   "id": "2eb9fc42-77a3-4500-929c-c68c51afbc07",
   "metadata": {},
   "source": [
    "In this step, we are reading and loading the players.csv file into R. "
   ]
  },
  {
   "cell_type": "code",
   "execution_count": null,
   "id": "ec8ff8ad-bab8-4189-86c2-301ebb87983f",
   "metadata": {},
   "outputs": [],
   "source": [
    "players<-read_csv(\"players.csv\")\n",
    "players"
   ]
  },
  {
   "cell_type": "markdown",
   "id": "9daf9175-146b-4c91-b89c-d8c7ec8d6083",
   "metadata": {},
   "source": [
    "Now we also read and load in the sessions.csv file into the R program."
   ]
  },
  {
   "cell_type": "code",
   "execution_count": null,
   "id": "35534a07-a1c6-4f3c-a2de-dcbe86228ab4",
   "metadata": {},
   "outputs": [],
   "source": [
    "sessions<-read_csv(\"sessions.csv\")\n",
    "sessions"
   ]
  },
  {
   "cell_type": "markdown",
   "id": "85476e26-3396-4170-a1b5-473cd701301c",
   "metadata": {},
   "source": [
    "**In this step we are wrangling and cleaning the data**\n",
    "\n",
    "What is done here is that we have used the mutate function to create a session_duration column in our dataframe, this is done by using the original_end_time and the original_start_time. Right after we use the filter function, so that we are able to obly includw rows that contain hashed email and session_duration.\n",
    "\n",
    "Once that has occured, we now use the group_by function to group all the hashedEmail together and finally we use the summarize function to dtermine the number of session (we call it num_session) and the total_duration(by summing the session_duration). We call this new dataframe tidy_sessions. "
   ]
  },
  {
   "cell_type": "code",
   "execution_count": null,
   "id": "09721ac3-bb9e-426a-b079-9d3cf20341ca",
   "metadata": {},
   "outputs": [],
   "source": [
    "tidy_sessions<-sessions|>\n",
    "mutate(session_duration = original_end_time - original_start_time)|>\n",
    "filter(!is.na(hashedEmail), !is.na(session_duration))|>\n",
    "group_by(hashedEmail)|>\n",
    "summarize(num_session = n(), total_duration = sum(session_duration, na.rm = TRUE))\n",
    "tidy_sessions"
   ]
  },
  {
   "cell_type": "markdown",
   "id": "ccb435c1-32f7-47ba-862a-e62dfae4fb1c",
   "metadata": {},
   "source": [
    "In this step, we are now selecting the hashedEmail, gender and Age columns and then filter for rows that have Age them and no NA values. We use the semi_join function to assure that rows with hashedEmail that are present in the tidy_sessions dataframe are kept. We name the object tidy_players.  "
   ]
  },
  {
   "cell_type": "code",
   "execution_count": null,
   "id": "6d51d976-b6cd-48a9-8e12-91385e12b701",
   "metadata": {},
   "outputs": [],
   "source": [
    "tidy_players<-players|>\n",
    "select(hashedEmail, gender, Age)|>\n",
    "filter(!is.na(Age))|>\n",
    "semi_join(tidy_sessions, by = \"hashedEmail\")\n",
    "tidy_players"
   ]
  },
  {
   "cell_type": "markdown",
   "id": "4a59afea-fb35-46c1-8aca-0350fbfb768f",
   "metadata": {},
   "source": [
    "Next, we use inner_join on the tidy_sessions data and use that to merge the tidy_sessions and tidy_players into one dataframe. We name the object player_session. "
   ]
  },
  {
   "cell_type": "code",
   "execution_count": null,
   "id": "3d2d2759-1d6d-424e-8b16-3e814c3419be",
   "metadata": {},
   "outputs": [],
   "source": [
    "player_session<-tidy_players|>\n",
    "inner_join(tidy_sessions, by = \"hashedEmail\")\n",
    "player_session"
   ]
  },
  {
   "cell_type": "markdown",
   "id": "86fa2633-bd67-4b1b-a4e2-ed79ea81d400",
   "metadata": {},
   "source": [
    "Now in this step, we are using the group_by function so that we group together the Age column and then summarize right after to calculate the mean of the num_session. We call this new column avg_session. We call the object of this step avg_player_session. "
   ]
  },
  {
   "cell_type": "code",
   "execution_count": null,
   "id": "223b4f7c-f9d5-4a6f-b575-5f32414b461a",
   "metadata": {},
   "outputs": [],
   "source": [
    "avg_player_session<-player_session|>\n",
    "group_by(Age)|>\n",
    "summarize(avg_session = mean(num_session))\n",
    "avg_player_session"
   ]
  },
  {
   "cell_type": "markdown",
   "id": "dc9219fb-e402-4df0-b5a2-5e32d7647eaa",
   "metadata": {},
   "source": [
    "In this step, we are going to create a scatterplot so that we can plot the Age and avg_session. We will put Age on the x-axis and avg_session on the y-xis. This graph allows for us to the average sessions that are played by players based on their ages. "
   ]
  },
  {
   "cell_type": "code",
   "execution_count": null,
   "id": "185b81d8-a78d-4d95-a251-847f4d13d81b",
   "metadata": {},
   "outputs": [],
   "source": [
    "library(ggplot2)\n",
    "\n",
    "options(repr.plot.width=12, repr.plot.height=7)\n",
    "game_plot_1<-avg_player_session|>\n",
    "ggplot(aes(x = Age, y = avg_session))+\n",
    "geom_point(alpha = 1)+\n",
    "labs(title = \"Average Sessions Played Based on Age\", x = \"Age of Players\", y = \"Average Sessions Played\")+\n",
    "theme_minimal()\n",
    "game_plot_1"
   ]
  },
  {
   "cell_type": "markdown",
   "id": "2243dd08-673d-41e1-b9bd-7ec18695b248",
   "metadata": {},
   "source": [
    "Now, we are going to move on to the analysis portion of the project. For the data analysis, we have decided to use the linear regression model. The reason we have decided to use this method is because we have a continuous response and explanatory variable. These are numerical variables, so first of all it makes sense for us to use regression. Linear regression allows for us to interpret the data and easily predict how the number of sessions could possibly change with age. \n",
    "\n",
    "Before we started linear regression, we have to assume that the relationship between age and number of sessions would be linear (later, we see that is not really the case). We also need to consider the weaknesses of linear regression. We need to understand that when we plot and if the relationship is not linear, linear regression will not demonstrate it that well. It also crucial to consider any outliers in the data, which could affect the line of best fit to be altered. \n",
    "\n",
    "The reason I chose linear regression was because it seemed like a straightforward model to determine the relationship between age and number of sessions. "
   ]
  },
  {
   "cell_type": "markdown",
   "id": "c71c6276-e49e-4215-9688-35b36c99631f",
   "metadata": {},
   "source": [
    "Now, we are going to move on to the analysis portion of the project. We are first going to use the initial_split function, so that we can spit our player_session dataset into a training and testing set. In the initial_split function, we have decided to use 85% of the data and are splitting based on the num_session. We name the training set game_training and the testing set as game_testing. "
   ]
  },
  {
   "cell_type": "code",
   "execution_count": null,
   "id": "700ef999-4676-4c86-89e9-a0d3863046df",
   "metadata": {},
   "outputs": [],
   "source": [
    "game_split<-initial_split(player_session, prop = 0.85, strata = num_session)\n",
    "game_training<-training(game_split)\n",
    "game_testing<-testing(game_split)\n",
    "game_split"
   ]
  },
  {
   "cell_type": "markdown",
   "id": "43711937-f47a-4560-bc31-6ca34d80928c",
   "metadata": {},
   "source": [
    "Right after, we are going to set up a linear regression specification model. We use the linear_reg function to do this and we set_engine as \"lm\" to indicate we are use the linear regression engine and then we use set_mode to set as \"regression\", so that we know that we doing a regression problem. We name our object lm_spec. "
   ]
  },
  {
   "cell_type": "code",
   "execution_count": null,
   "id": "8e3cb2b2-a73a-4f61-979d-b133254067d1",
   "metadata": {},
   "outputs": [],
   "source": [
    "lm_spec<-linear_reg()|>\n",
    "set_engine(\"lm\")|>\n",
    "set_mode(\"regression\")\n",
    "lm_spec"
   ]
  },
  {
   "cell_type": "markdown",
   "id": "7df284f7-5186-4b8c-afc4-cd128358eba0",
   "metadata": {},
   "source": [
    "Now, we are going to create a recipe and workflow, so that we can preprocess and combine the data together. We first use the recipe function and set our response variable as num_sessions and our predictor variable as Age. We also specify that we are using the game_training set. We name the object for the recipe, lm_recipe. \n",
    "\n",
    "Then, we create a workflow to combine our recipe and model together. At the end of the workflow, we use the fit function to fit our data on the game_training dataset. We name the workflow object as lm_fit. "
   ]
  },
  {
   "cell_type": "code",
   "execution_count": null,
   "id": "965c806b-1449-406d-b059-400a40419fac",
   "metadata": {},
   "outputs": [],
   "source": [
    "lm_recipe<-recipe(num_session ~ Age, data = game_training)\n",
    "\n",
    "lm_fit<-workflow()|>\n",
    "add_recipe(lm_recipe)|>\n",
    "add_model(lm_spec)|>\n",
    "fit(data = game_training)\n",
    "lm_fit"
   ]
  },
  {
   "cell_type": "markdown",
   "id": "a371524b-1b1a-4c8d-acc2-84b6c92f79d6",
   "metadata": {},
   "source": [
    "In this step of our analysis, we are going to make predictions and add those predictions to our game_training dataset. This is done by using our lm_fit data and using the predict funtion on the game_training dataset. Then we use the bind_cols function to attach our predictions on to game_training dataset. We name the object game_preds. \n",
    "\n",
    "Right after, we are going to create a scatter plot. We will set Age on our x-axis and num_session on our y-axis. From there, we also use the geom_line function to show our linear line here. We make the x variable of the line as Age and the y-variable as .pred. Then we decide to color the line blue. We then give descriptive axis titles and a title for the graph. We name the plot object as lm_predictions_plot. This plot is used to assess the model's fit and to see if it is a good representation of the data. (We use coord_cartesian to zoom in on most relevant range of the ages and the number of sessions). "
   ]
  },
  {
   "cell_type": "code",
   "execution_count": null,
   "id": "8839e262-35f8-4d73-b064-d9fc4745273a",
   "metadata": {},
   "outputs": [],
   "source": [
    "options(repr.plot.width = 10, repr.plot.height = 10)\n",
    "game_preds<-lm_fit|>\n",
    "predict(game_training)|>\n",
    "bind_cols(game_training)\n",
    "\n",
    "lm_predictions_plot<-game_preds|>\n",
    "ggplot(aes(x = Age, y = num_session))+\n",
    "geom_point(alpha = 0.4)+\n",
    "coord_cartesian(xlim = c(10, 50), ylim = c(0, 100)) +\n",
    "geom_line(mapping = aes(x = Age, y = .pred), \n",
    "            color = \"blue\") +\n",
    "        xlab(\"Age of Players\") +\n",
    "        ylab(\"The Number of Sessions played by Players\") +\n",
    "        theme(text = element_text(size = 20))\n",
    "lm_predictions_plot"
   ]
  },
  {
   "cell_type": "markdown",
   "id": "cd0876b3-d27c-4152-aeb1-5654930758de",
   "metadata": {},
   "source": [
    "Now we are going to see how well our linear regression model works on our testing set. We use the predict function here on the game_testing data and apply our lm_fit to make our predictions. We then use the bind_cols to attach our predictions to our game_testing dataframe. Right after that, we use the metrics function to compute the RMSE. We set our truth variable as num_session, which is our actual data and our estimate as .pred, which is where we made our predictions. We name our object here lm_test_results. \n",
    "\n",
    "Then, we are going to use the filter function to do the .metric==\"rmse\", and the select function to get the rmse from the .estimate coumn and then the pull function to pull out the RMSE value that we need. "
   ]
  },
  {
   "cell_type": "code",
   "execution_count": null,
   "id": "fe1cf9e2-2b15-4e8c-b283-6ea3d92dfa43",
   "metadata": {},
   "outputs": [],
   "source": [
    "lm_test_results <- lm_fit |>\n",
    "                    predict(game_testing) |>\n",
    "                    bind_cols(game_testing) |>\n",
    "                    metrics(truth = num_session, estimate = .pred)                    \n",
    "\n",
    "lm_rmspe <- lm_test_results |>\n",
    "                filter(.metric == 'rmse') |>\n",
    "                select(.estimate) |>\n",
    "                pull()\n",
    "lm_rmspe"
   ]
  },
  {
   "cell_type": "markdown",
   "id": "21cb4d9a-84f1-40df-a243-096f006a7bd1",
   "metadata": {},
   "source": [
    "Finally, we are going to create a visualization of linear regression model on our test data. We create predictions again using our game_testing data and using the lm_fit data that created. We then use the bind_cols to add our prediction to the game_testing dataframe. We name the object test_preds. We do this step again because this time, we don't need to predict the RMSE, just the predictions. \n",
    "\n",
    "Now we create a plot to see how well our linear regression model works on data that has not been seen yet. We create a scatterplot where we set Age as the x-axis and the num_session on the y-axis. We then use the geom_line function to add in our best-fit line which is created by the x-variable (Age) and y-variable (num_session) and we color the line a blue colour. We then set descriptive labels and a title for our graph. We name our plot, lm_predictions_test_plot (Y-axis shown on log scale to better visualize session frequency distribution.) (geom_jitter is also used because the points were overlapping way too much). "
   ]
  },
  {
   "cell_type": "code",
   "execution_count": null,
   "id": "8dd5fbb2-1ee1-43f5-a504-d407554cdc21",
   "metadata": {},
   "outputs": [],
   "source": [
    "options(repr.plot.width = 14, repr.plot.height = 10)\n",
    "\n",
    "\n",
    "test_preds <- lm_fit |>\n",
    "    predict(game_testing) |>\n",
    "    bind_cols(game_testing)\n",
    "\n",
    "lm_predictions_test_plot <- test_preds |>\n",
    "    ggplot(aes(x = Age, y = num_session)) +\n",
    "        geom_point(alpha = 0.4) +\n",
    "geom_jitter(alpha = 0.4, width = 0.3, height = 0.3) +\n",
    "        geom_line(\n",
    "            mapping = aes(x = Age, y = .pred), \n",
    "            color = \"blue\") +\n",
    "  scale_y_log10() +\n",
    "        xlab(\"Age of Players\") +\n",
    "        ylab(\"Number of Sessions Of Players\") +\n",
    "        theme(text = element_text(size = 20))\n",
    "lm_predictions_test_plot"
   ]
  },
  {
   "cell_type": "markdown",
   "id": "120cf1a4-3ba5-48f4-ac54-4374e9578824",
   "metadata": {},
   "source": [
    "**Discussion**\n",
    "From the plots and the data analysis that we have done, we were able to calculate the RMSE from linear regression, as well as see how our linear regression model acts on the training set of data and unseen data (testing set). When create the recipe and fit our model in the workflow, we get our equation of the line. Our equation of line is num_sessions = 18.6936 - 0.2928 * Age. The intercept (18.6936) is the predicted number of sessions for a player with an age = 0. The slope (-0.2928) indicates to us that in each additional year of age, the predicted number of sessions decreases by a value of around 0.29. This indicates to us that older indivdiuals tend to have less sessions compared to younger individuals. This equation indicates to use that age and number of sessions have a slight negative relationship. This could suggest to us that younger players tend to have more sessions and be more active on the minecraft server. \n",
    "\n",
    "My number of sessions seem to range from 0 to 100 sessions. My calculated RMSE value was 28.7. This indicates how off my number of sessions are from the actual number of sessions that occur. This seems to be a pretty big error and this could indicate that only age might not be a strong predictor for how many sessions a player tends to play. This could indicate that the relationship between age and num_session might just be very week, which is why we are seeing a large RMSE. This might indicate thato other variables other than age might play a bigger role in determining the number of sessions. This could also explain why when we look at the plots, our line of best-fit does not seem to go through the data points. The model is trying to find something to minimize error, however it leads to a trend not being followed. \n",
    "\n",
    "This outcome was a little expected because it makes sense that not only age wil affect the number of sessions by players. There can be many other variables like lifestyle, personality, etc that could have a greater effect on the number of sessions. We did see a weak relationship, so it could have some effect, but we can see that it does not have a large effect. Now we know that the relationship between age and number of sessions is fairly weak, this opens up space for questions that can explore other variables, such as can someone's past experiences in a game lead to a greater number of sessions? Or, we can also test gender to see if that would have an effect on the number of sessions one partakes in. The impact of these findings is that now that we know age is not a strong predictor for number of sessions, we know that using promotional techniques to promote the Minecraft server to target age groups would not be that effective due to the data we have seen today. This indicates to game developers that we need to use non-age based promotional techniques instead. "
   ]
  },
  {
   "cell_type": "code",
   "execution_count": null,
   "id": "fd039376-be86-410a-88f5-5f6a53262fba",
   "metadata": {},
   "outputs": [],
   "source": []
  }
 ],
 "metadata": {
  "kernelspec": {
   "display_name": "R",
   "language": "R",
   "name": "ir"
  },
  "language_info": {
   "codemirror_mode": "r",
   "file_extension": ".r",
   "mimetype": "text/x-r-source",
   "name": "R",
   "pygments_lexer": "r",
   "version": "4.3.3"
  }
 },
 "nbformat": 4,
 "nbformat_minor": 5
}
