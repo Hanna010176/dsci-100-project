{
 "cells": [
  {
   "cell_type": "markdown",
   "id": "059cc251-2350-497c-864a-69c4166f0b2d",
   "metadata": {},
   "source": [
    "<div style=\"font-size:18px;\">\n",
    "Data Science 100 Final Project"
   ]
  },
  {
   "cell_type": "markdown",
   "id": "63abc131-768a-4fb3-8432-04113a685493",
   "metadata": {},
   "source": [
    "Introduction:\n",
    "There is a research group at UBC that is collecting data on how people play video games. They have collected data on players through a Minecreaft Server. They have presented us with many broad questions that we need to explore. The broad question that has been chosen for the project today is Which \"kinds\" of players are most likely to contribute a large amount of data so that we can target those players in our recruiting efforts. From this we have formulated a predictuve question, the question we are trying to answer is Can we predict the number of sessions players partake in a Minecraft server based on their age?\n",
    "\n",
    "This project uses two datasets that were taken from the minecraft server, the two CSV files are:\n",
    "players.csv (This dataset has information on the players)\n",
    "sessions.csv(This dataset has specific information on the players sessions)\n",
    "\n",
    "These two datasets were cleaned and joined together by hashedEmail to create a dataset that we used to answer our question. \n",
    "|**Variable Name**  | **Type** |**Description**                     |\n",
    "|-------------------|----------|------------------------------------|\n",
    "|hashedEmail        |Character |An identifier for each player       |\n",
    "|Age                |Numeric   |The Age of the player in years      |\n",
    "|Total_duration     |Numeric(Double)  |The total amount of time that a player spent on the Mincraft server in seconds|\n",
    "|Gender |Character | The self reported gender of the player  |\n",
    "|num_session        |Integer|The total number of sessions played by the player|\n",
    "\n",
    "**Summary of the dataset used**\n",
    "\n",
    "Number of Observation: 123 observations\n",
    "\n",
    "The variables used in the analysis: Age, num_session\n",
    "\n",
    "The response variable: num_session\n",
    "\n",
    "The explanatory variable: Age"
   ]
  },
  {
   "cell_type": "code",
   "execution_count": null,
   "id": "cba479e7-fd44-4b65-9b6f-8c2d3fdb067e",
   "metadata": {},
   "outputs": [],
   "source": [
    "### Run this cell before continuing. \n",
    "library(tidyverse)\n",
    "library(repr)\n",
    "library(tidymodels)\n",
    "options(repr.matrix.max.rows = 6)"
   ]
  },
  {
   "cell_type": "code",
   "execution_count": null,
   "id": "ec8ff8ad-bab8-4189-86c2-301ebb87983f",
   "metadata": {},
   "outputs": [],
   "source": [
    "players<-read_csv(\"players.csv\")\n",
    "players"
   ]
  },
  {
   "cell_type": "code",
   "execution_count": null,
   "id": "35534a07-a1c6-4f3c-a2de-dcbe86228ab4",
   "metadata": {},
   "outputs": [],
   "source": [
    "sessions<-read_csv(\"sessions.csv\")\n",
    "sessions"
   ]
  },
  {
   "cell_type": "code",
   "execution_count": null,
   "id": "09721ac3-bb9e-426a-b079-9d3cf20341ca",
   "metadata": {},
   "outputs": [],
   "source": [
    "tidy_sessions<-sessions|>\n",
    "mutate(session_duration = original_end_time - original_start_time)|>\n",
    "filter(!is.na(hashedEmail), !is.na(session_duration))|>\n",
    "group_by(hashedEmail)|>\n",
    "summarize(num_session = n(), total_duration = sum(session_duration, na.rm = TRUE))\n",
    "tidy_sessions"
   ]
  },
  {
   "cell_type": "code",
   "execution_count": null,
   "id": "6d51d976-b6cd-48a9-8e12-91385e12b701",
   "metadata": {},
   "outputs": [],
   "source": [
    "tidy_players<-players|>\n",
    "select(hashedEmail, gender, Age)|>\n",
    "filter(!is.na(Age))|>\n",
    "semi_join(tidy_sessions, by = \"hashedEmail\")\n",
    "tidy_players"
   ]
  },
  {
   "cell_type": "code",
   "execution_count": null,
   "id": "3d2d2759-1d6d-424e-8b16-3e814c3419be",
   "metadata": {},
   "outputs": [],
   "source": [
    "player_session<-tidy_players|>\n",
    "inner_join(tidy_sessions, by = \"hashedEmail\")\n",
    "player_session"
   ]
  },
  {
   "cell_type": "code",
   "execution_count": null,
   "id": "223b4f7c-f9d5-4a6f-b575-5f32414b461a",
   "metadata": {},
   "outputs": [],
   "source": [
    "avg_player_session<-player_session|>\n",
    "group_by(Age)|>\n",
    "summarize(avg_session = mean(num_session))\n",
    "avg_player_session"
   ]
  },
  {
   "cell_type": "code",
   "execution_count": null,
   "id": "185b81d8-a78d-4d95-a251-847f4d13d81b",
   "metadata": {},
   "outputs": [],
   "source": [
    "library(ggplot2)\n",
    "\n",
    "options(repr.plot.width=12, repr.plot.height=7)\n",
    "game_plot_1<-avg_player_session|>\n",
    "ggplot(aes(x = Age, y = avg_session))+\n",
    "geom_point(alpha = 1)+\n",
    "labs(title = \"Average Sessions Played Based on Age\", x = \"Age of Players\", y = \"Average Sessions Played\")+\n",
    "theme_minimal()\n",
    "game_plot_1"
   ]
  },
  {
   "cell_type": "code",
   "execution_count": null,
   "id": "a84c8272-d08d-4bdc-94e2-2d59c102ac11",
   "metadata": {},
   "outputs": [],
   "source": [
    "player_session<-player_session|>\n",
    "mutate(gender =as_factor(gender))\n",
    "player_session"
   ]
  },
  {
   "cell_type": "code",
   "execution_count": null,
   "id": "c90f481a-d478-4207-a94a-c0508b3be86e",
   "metadata": {},
   "outputs": [],
   "source": [
    "game_split<-initial_split(player_session, prop = 0.75, strata = num_session)\n",
    "game_training<-training(game_split)\n",
    "game_testing<-testing(game_split)"
   ]
  },
  {
   "cell_type": "code",
   "execution_count": null,
   "id": "8e3cb2b2-a73a-4f61-979d-b133254067d1",
   "metadata": {},
   "outputs": [],
   "source": [
    "lm_spec<-linear_reg()|>\n",
    "set_engine(\"lm\")|>\n",
    "set_mode(\"regression\")\n",
    "lm_spec"
   ]
  },
  {
   "cell_type": "code",
   "execution_count": null,
   "id": "965c806b-1449-406d-b059-400a40419fac",
   "metadata": {},
   "outputs": [],
   "source": [
    "lm_recipe<-recipe(num_session ~ Age, data = game_training)\n",
    "\n",
    "lm_fit<-workflow()|>\n",
    "add_recipe(lm_recipe)|>\n",
    "add_model(lm_spec)|>\n",
    "fit(data = game_training)\n",
    "lm_fit"
   ]
  },
  {
   "cell_type": "code",
   "execution_count": null,
   "id": "8839e262-35f8-4d73-b064-d9fc4745273a",
   "metadata": {},
   "outputs": [],
   "source": [
    "options(repr.plot.width = 14, repr.plot.height = 10)\n",
    "game_preds<-lm_fit|>\n",
    "predict(game_training)|>\n",
    "bind_cols(game_training)\n",
    "\n",
    "lm_predictions<-game_preds|>\n",
    "ggplot(aes(x = Age, y = num_session))+\n",
    "geom_point(alpha = 0.4)+\n",
    "geom_line(mapping = aes(x = Age, y = .pred), \n",
    "            color = \"blue\") +\n",
    "        xlab(\"Age of Players\") +\n",
    "        ylab(\"The Number of Sessions played by Players\") +\n",
    "        theme(text = element_text(size = 20))\n",
    "lm_predictions"
   ]
  },
  {
   "cell_type": "code",
   "execution_count": null,
   "id": "fe1cf9e2-2b15-4e8c-b283-6ea3d92dfa43",
   "metadata": {},
   "outputs": [],
   "source": [
    "lm_test_results <- lm_fit |>\n",
    "                    predict(game_testing) |>\n",
    "                    bind_cols(game_testing) |>\n",
    "                    metrics(truth = num_session, estimate = .pred)                    \n",
    "\n",
    "lm_rmspe <- lm_test_results |>\n",
    "                filter(.metric == 'rmse') |>\n",
    "                select(.estimate) |>\n",
    "                pull()\n",
    "lm_rmspe"
   ]
  },
  {
   "cell_type": "code",
   "execution_count": null,
   "id": "8dd5fbb2-1ee1-43f5-a504-d407554cdc21",
   "metadata": {},
   "outputs": [],
   "source": [
    "options(repr.plot.width = 8, repr.plot.height = 7)\n",
    "\n",
    "\n",
    "test_preds <- lm_fit |>\n",
    "    predict(game_testing) |>\n",
    "    bind_cols(game_testing)\n",
    "\n",
    "lm_predictions_test <- test_preds |>\n",
    "    ggplot(aes(x = Age, y = num_session)) +\n",
    "        geom_point(alpha = 0.4) +\n",
    "        geom_line(\n",
    "            mapping = aes(x = Age, y = .pred), \n",
    "            color = \"blue\") +\n",
    "        xlab(\"Age of Players\") +\n",
    "        ylab(\"Number of Sessions Of Players\") +\n",
    "        theme(text = element_text(size = 20))\n",
    "### END SOLUTION\n",
    "lm_predictions_test"
   ]
  },
  {
   "cell_type": "code",
   "execution_count": null,
   "id": "5bddd416-a962-4621-9af3-c168fe1aa648",
   "metadata": {},
   "outputs": [],
   "source": []
  }
 ],
 "metadata": {
  "kernelspec": {
   "display_name": "R",
   "language": "R",
   "name": "ir"
  },
  "language_info": {
   "codemirror_mode": "r",
   "file_extension": ".r",
   "mimetype": "text/x-r-source",
   "name": "R",
   "pygments_lexer": "r",
   "version": "4.3.3"
  }
 },
 "nbformat": 4,
 "nbformat_minor": 5
}
